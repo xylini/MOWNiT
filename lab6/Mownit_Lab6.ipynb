{
 "cells": [
  {
   "cell_type": "markdown",
   "metadata": {},
   "source": [
    "Do poszukiwania pierwiastków funkcji w Julii używamy pakietu Roots"
   ]
  },
  {
   "cell_type": "code",
   "execution_count": 1,
   "metadata": {},
   "outputs": [],
   "source": [
    "using Pkg"
   ]
  },
  {
   "cell_type": "code",
   "execution_count": 2,
   "metadata": {},
   "outputs": [
    {
     "name": "stdout",
     "output_type": "stream",
     "text": [
      "\u001b[32m\u001b[1m  Updating\u001b[22m\u001b[39m registry at `~/.julia/registries/General`\n",
      "\u001b[32m\u001b[1m  Updating\u001b[22m\u001b[39m git-repo `https://github.com/JuliaRegistries/General.git`\n",
      "\u001b[2K\u001b[?25h[1mFetching:\u001b[22m\u001b[39m [========================================>]  100.0 %.0 %           ]  71.4 %\u001b[32m\u001b[1m Resolving\u001b[22m\u001b[39m package versions...\n",
      "\u001b[32m\u001b[1m Installed\u001b[22m\u001b[39m Roots ─ v0.7.4\n",
      "\u001b[32m\u001b[1m  Updating\u001b[22m\u001b[39m `~/.julia/environments/v1.0/Project.toml`\n",
      " \u001b[90m [f2b01f46]\u001b[39m\u001b[92m + Roots v0.7.4\u001b[39m\n",
      "\u001b[32m\u001b[1m  Updating\u001b[22m\u001b[39m `~/.julia/environments/v1.0/Manifest.toml`\n",
      " \u001b[90m [f2b01f46]\u001b[39m\u001b[92m + Roots v0.7.4\u001b[39m\n",
      "\u001b[32m\u001b[1m Resolving\u001b[22m\u001b[39m package versions...\n",
      "\u001b[32m\u001b[1m  Updating\u001b[22m\u001b[39m `~/.julia/environments/v1.0/Project.toml`\n",
      " \u001b[90m [f6369f11]\u001b[39m\u001b[92m + ForwardDiff v0.10.1\u001b[39m\n",
      "\u001b[32m\u001b[1m  Updating\u001b[22m\u001b[39m `~/.julia/environments/v1.0/Manifest.toml`\n",
      "\u001b[90m [no changes]\u001b[39m\n"
     ]
    }
   ],
   "source": [
    "\n",
    "Pkg.add(\"Roots\")\n",
    "Pkg.add(\"ForwardDiff\")\n"
   ]
  },
  {
   "cell_type": "code",
   "execution_count": 3,
   "metadata": {},
   "outputs": [
    {
     "name": "stderr",
     "output_type": "stream",
     "text": [
      "┌ Info: Precompiling Roots [f2b01f46-fcfa-551c-844a-d8ac1e96c665]\n",
      "└ @ Base loading.jl:1189\n"
     ]
    }
   ],
   "source": [
    "using Roots  \n",
    "using Plots\n",
    "using ForwardDiff"
   ]
  },
  {
   "cell_type": "code",
   "execution_count": 4,
   "metadata": {},
   "outputs": [
    {
     "data": {
      "image/svg+xml": [
       "<?xml version=\"1.0\" encoding=\"utf-8\"?>\n",
       "<svg xmlns=\"http://www.w3.org/2000/svg\" xmlns:xlink=\"http://www.w3.org/1999/xlink\" width=\"600\" height=\"400\" viewBox=\"0 0 2400 1600\">\n",
       "<defs>\n",
       "  <clipPath id=\"clip4100\">\n",
       "    <rect x=\"0\" y=\"0\" width=\"2000\" height=\"2000\"/>\n",
       "  </clipPath>\n",
       "</defs>\n",
       "<defs>\n",
       "  <clipPath id=\"clip4101\">\n",
       "    <rect x=\"0\" y=\"0\" width=\"2400\" height=\"1600\"/>\n",
       "  </clipPath>\n",
       "</defs>\n",
       "<polygon clip-path=\"url(#clip4101)\" points=\"\n",
       "0,1600 2400,1600 2400,0 0,0 \n",
       "  \" fill=\"#ffffff\" fill-rule=\"evenodd\" fill-opacity=\"1\"/>\n",
       "<defs>\n",
       "  <clipPath id=\"clip4102\">\n",
       "    <rect x=\"480\" y=\"0\" width=\"1681\" height=\"1600\"/>\n",
       "  </clipPath>\n",
       "</defs>\n",
       "<polygon clip-path=\"url(#clip4101)\" points=\"\n",
       "149.361,1503.47 2321.26,1503.47 2321.26,47.2441 149.361,47.2441 \n",
       "  \" fill=\"#ffffff\" fill-rule=\"evenodd\" fill-opacity=\"1\"/>\n",
       "<defs>\n",
       "  <clipPath id=\"clip4103\">\n",
       "    <rect x=\"149\" y=\"47\" width=\"2173\" height=\"1457\"/>\n",
       "  </clipPath>\n",
       "</defs>\n",
       "<polyline clip-path=\"url(#clip4103)\" style=\"stroke:#000000; stroke-width:2; stroke-opacity:0.1; fill:none\" points=\"\n",
       "  190.36,1503.47 190.36,47.2441 \n",
       "  \"/>\n",
       "<polyline clip-path=\"url(#clip4103)\" style=\"stroke:#000000; stroke-width:2; stroke-opacity:0.1; fill:none\" points=\"\n",
       "  714.377,1503.47 714.377,47.2441 \n",
       "  \"/>\n",
       "<polyline clip-path=\"url(#clip4103)\" style=\"stroke:#000000; stroke-width:2; stroke-opacity:0.1; fill:none\" points=\"\n",
       "  1238.39,1503.47 1238.39,47.2441 \n",
       "  \"/>\n",
       "<polyline clip-path=\"url(#clip4103)\" style=\"stroke:#000000; stroke-width:2; stroke-opacity:0.1; fill:none\" points=\"\n",
       "  1762.41,1503.47 1762.41,47.2441 \n",
       "  \"/>\n",
       "<polyline clip-path=\"url(#clip4103)\" style=\"stroke:#000000; stroke-width:2; stroke-opacity:0.1; fill:none\" points=\"\n",
       "  2286.43,1503.47 2286.43,47.2441 \n",
       "  \"/>\n",
       "<polyline clip-path=\"url(#clip4103)\" style=\"stroke:#000000; stroke-width:2; stroke-opacity:0.1; fill:none\" points=\"\n",
       "  149.361,1350.02 2321.26,1350.02 \n",
       "  \"/>\n",
       "<polyline clip-path=\"url(#clip4103)\" style=\"stroke:#000000; stroke-width:2; stroke-opacity:0.1; fill:none\" points=\"\n",
       "  149.361,997.689 2321.26,997.689 \n",
       "  \"/>\n",
       "<polyline clip-path=\"url(#clip4103)\" style=\"stroke:#000000; stroke-width:2; stroke-opacity:0.1; fill:none\" points=\"\n",
       "  149.361,645.358 2321.26,645.358 \n",
       "  \"/>\n",
       "<polyline clip-path=\"url(#clip4103)\" style=\"stroke:#000000; stroke-width:2; stroke-opacity:0.1; fill:none\" points=\"\n",
       "  149.361,293.028 2321.26,293.028 \n",
       "  \"/>\n",
       "<polyline clip-path=\"url(#clip4101)\" style=\"stroke:#000000; stroke-width:4; stroke-opacity:1; fill:none\" points=\"\n",
       "  149.361,1503.47 2321.26,1503.47 \n",
       "  \"/>\n",
       "<polyline clip-path=\"url(#clip4101)\" style=\"stroke:#000000; stroke-width:4; stroke-opacity:1; fill:none\" points=\"\n",
       "  149.361,1503.47 149.361,47.2441 \n",
       "  \"/>\n",
       "<polyline clip-path=\"url(#clip4101)\" style=\"stroke:#000000; stroke-width:4; stroke-opacity:1; fill:none\" points=\"\n",
       "  190.36,1503.47 190.36,1481.63 \n",
       "  \"/>\n",
       "<polyline clip-path=\"url(#clip4101)\" style=\"stroke:#000000; stroke-width:4; stroke-opacity:1; fill:none\" points=\"\n",
       "  714.377,1503.47 714.377,1481.63 \n",
       "  \"/>\n",
       "<polyline clip-path=\"url(#clip4101)\" style=\"stroke:#000000; stroke-width:4; stroke-opacity:1; fill:none\" points=\"\n",
       "  1238.39,1503.47 1238.39,1481.63 \n",
       "  \"/>\n",
       "<polyline clip-path=\"url(#clip4101)\" style=\"stroke:#000000; stroke-width:4; stroke-opacity:1; fill:none\" points=\"\n",
       "  1762.41,1503.47 1762.41,1481.63 \n",
       "  \"/>\n",
       "<polyline clip-path=\"url(#clip4101)\" style=\"stroke:#000000; stroke-width:4; stroke-opacity:1; fill:none\" points=\"\n",
       "  2286.43,1503.47 2286.43,1481.63 \n",
       "  \"/>\n",
       "<polyline clip-path=\"url(#clip4101)\" style=\"stroke:#000000; stroke-width:4; stroke-opacity:1; fill:none\" points=\"\n",
       "  149.361,1350.02 181.939,1350.02 \n",
       "  \"/>\n",
       "<polyline clip-path=\"url(#clip4101)\" style=\"stroke:#000000; stroke-width:4; stroke-opacity:1; fill:none\" points=\"\n",
       "  149.361,997.689 181.939,997.689 \n",
       "  \"/>\n",
       "<polyline clip-path=\"url(#clip4101)\" style=\"stroke:#000000; stroke-width:4; stroke-opacity:1; fill:none\" points=\"\n",
       "  149.361,645.358 181.939,645.358 \n",
       "  \"/>\n",
       "<polyline clip-path=\"url(#clip4101)\" style=\"stroke:#000000; stroke-width:4; stroke-opacity:1; fill:none\" points=\"\n",
       "  149.361,293.028 181.939,293.028 \n",
       "  \"/>\n",
       "<g clip-path=\"url(#clip4101)\">\n",
       "<text style=\"fill:#000000; fill-opacity:1; font-family:Arial,Helvetica Neue,Helvetica,sans-serif; font-size:48px; text-anchor:middle;\" transform=\"rotate(0, 190.36, 1557.47)\" x=\"190.36\" y=\"1557.47\">-2</text>\n",
       "</g>\n",
       "<g clip-path=\"url(#clip4101)\">\n",
       "<text style=\"fill:#000000; fill-opacity:1; font-family:Arial,Helvetica Neue,Helvetica,sans-serif; font-size:48px; text-anchor:middle;\" transform=\"rotate(0, 714.377, 1557.47)\" x=\"714.377\" y=\"1557.47\">-1</text>\n",
       "</g>\n",
       "<g clip-path=\"url(#clip4101)\">\n",
       "<text style=\"fill:#000000; fill-opacity:1; font-family:Arial,Helvetica Neue,Helvetica,sans-serif; font-size:48px; text-anchor:middle;\" transform=\"rotate(0, 1238.39, 1557.47)\" x=\"1238.39\" y=\"1557.47\">0</text>\n",
       "</g>\n",
       "<g clip-path=\"url(#clip4101)\">\n",
       "<text style=\"fill:#000000; fill-opacity:1; font-family:Arial,Helvetica Neue,Helvetica,sans-serif; font-size:48px; text-anchor:middle;\" transform=\"rotate(0, 1762.41, 1557.47)\" x=\"1762.41\" y=\"1557.47\">1</text>\n",
       "</g>\n",
       "<g clip-path=\"url(#clip4101)\">\n",
       "<text style=\"fill:#000000; fill-opacity:1; font-family:Arial,Helvetica Neue,Helvetica,sans-serif; font-size:48px; text-anchor:middle;\" transform=\"rotate(0, 2286.43, 1557.47)\" x=\"2286.43\" y=\"1557.47\">2</text>\n",
       "</g>\n",
       "<g clip-path=\"url(#clip4101)\">\n",
       "<text style=\"fill:#000000; fill-opacity:1; font-family:Arial,Helvetica Neue,Helvetica,sans-serif; font-size:48px; text-anchor:end;\" transform=\"rotate(0, 125.361, 1367.52)\" x=\"125.361\" y=\"1367.52\">-2</text>\n",
       "</g>\n",
       "<g clip-path=\"url(#clip4101)\">\n",
       "<text style=\"fill:#000000; fill-opacity:1; font-family:Arial,Helvetica Neue,Helvetica,sans-serif; font-size:48px; text-anchor:end;\" transform=\"rotate(0, 125.361, 1015.19)\" x=\"125.361\" y=\"1015.19\">-1</text>\n",
       "</g>\n",
       "<g clip-path=\"url(#clip4101)\">\n",
       "<text style=\"fill:#000000; fill-opacity:1; font-family:Arial,Helvetica Neue,Helvetica,sans-serif; font-size:48px; text-anchor:end;\" transform=\"rotate(0, 125.361, 662.858)\" x=\"125.361\" y=\"662.858\">0</text>\n",
       "</g>\n",
       "<g clip-path=\"url(#clip4101)\">\n",
       "<text style=\"fill:#000000; fill-opacity:1; font-family:Arial,Helvetica Neue,Helvetica,sans-serif; font-size:48px; text-anchor:end;\" transform=\"rotate(0, 125.361, 310.528)\" x=\"125.361\" y=\"310.528\">1</text>\n",
       "</g>\n",
       "<polyline clip-path=\"url(#clip4103)\" style=\"stroke:#009af9; stroke-width:4; stroke-opacity:1; fill:none\" points=\"\n",
       "  210.829,88.4582 400.103,91.9174 513.848,92.309 610.018,94.9123 714.486,102.674 810.796,116.461 862.424,127.1 914.051,140.313 973.866,159.116 1033.68,181.931 \n",
       "  1086.84,205.76 1140,233.061 1186.61,259.928 1233.22,289.567 1284.04,325.057 1334.87,363.845 1385.99,406.148 1437.11,451.67 1493.64,505.618 1550.16,563.186 \n",
       "  1603.94,621.113 1657.72,681.881 1769.56,816.191 1863.7,935.927 1978.64,1087.59 2086.69,1232.64 2259.79,1462.26 \n",
       "  \"/>\n",
       "<polygon clip-path=\"url(#clip4101)\" points=\"\n",
       "1958.43,251.724 2249.26,251.724 2249.26,130.764 1958.43,130.764 \n",
       "  \" fill=\"#ffffff\" fill-rule=\"evenodd\" fill-opacity=\"1\"/>\n",
       "<polyline clip-path=\"url(#clip4101)\" style=\"stroke:#000000; stroke-width:4; stroke-opacity:1; fill:none\" points=\"\n",
       "  1958.43,251.724 2249.26,251.724 2249.26,130.764 1958.43,130.764 1958.43,251.724 \n",
       "  \"/>\n",
       "<polyline clip-path=\"url(#clip4101)\" style=\"stroke:#009af9; stroke-width:4; stroke-opacity:1; fill:none\" points=\"\n",
       "  1982.43,191.244 2126.43,191.244 \n",
       "  \"/>\n",
       "<g clip-path=\"url(#clip4101)\">\n",
       "<text style=\"fill:#000000; fill-opacity:1; font-family:Arial,Helvetica Neue,Helvetica,sans-serif; font-size:48px; text-anchor:start;\" transform=\"rotate(0, 2150.43, 208.744)\" x=\"2150.43\" y=\"208.744\">y1</text>\n",
       "</g>\n",
       "</svg>\n"
      ]
     },
     "execution_count": 4,
     "metadata": {},
     "output_type": "execute_result"
    }
   ],
   "source": [
    "# przykładowa funkcja do testów\n",
    "f(x) = cos(x) - x\n",
    "plot(f, -2, 2)"
   ]
  },
  {
   "cell_type": "markdown",
   "metadata": {},
   "source": [
    "Funkcja <i> find_zero</i>  dobiera odpowiedni algorytm w zależności od sposobu wywołania.\n"
   ]
  },
  {
   "cell_type": "markdown",
   "metadata": {},
   "source": [
    "### 1. Metody wykorzytujące  przedział i zmianę znaku"
   ]
  },
  {
   "cell_type": "markdown",
   "metadata": {},
   "source": [
    "1.1 Metoda bisekcji - jesli wywołamy fzero z podaniem  przedziału (tutaj (0,1))"
   ]
  },
  {
   "cell_type": "code",
   "execution_count": 5,
   "metadata": {},
   "outputs": [
    {
     "data": {
      "text/plain": [
       "0.7390851332151607"
      ]
     },
     "execution_count": 5,
     "metadata": {},
     "output_type": "execute_result"
    }
   ],
   "source": [
    "x = find_zero(f, (0, 1))  "
   ]
  },
  {
   "cell_type": "code",
   "execution_count": 6,
   "metadata": {},
   "outputs": [
    {
     "data": {
      "text/plain": [
       "0.7390851332151607"
      ]
     },
     "execution_count": 6,
     "metadata": {},
     "output_type": "execute_result"
    }
   ],
   "source": [
    "# mozna wyspecyfikowac wprost\n",
    "x = find_zero(f, (0, 1), Bisection())  "
   ]
  },
  {
   "cell_type": "markdown",
   "metadata": {},
   "source": [
    "uwaga: w przypadku bisekcji nie działają dodatkowe opcje np verbose=true (bug?)"
   ]
  },
  {
   "cell_type": "markdown",
   "metadata": {},
   "source": [
    "#### Sprawdzanie, czy znaleźliśmy 0"
   ]
  },
  {
   "cell_type": "code",
   "execution_count": 8,
   "metadata": {},
   "outputs": [
    {
     "data": {
      "text/plain": [
       "true"
      ]
     },
     "execution_count": 8,
     "metadata": {},
     "output_type": "execute_result"
    }
   ],
   "source": [
    "#Sprawdzamy czy znaleźliśmy 0\n",
    "iszero(f(x))"
   ]
  },
  {
   "cell_type": "code",
   "execution_count": 9,
   "metadata": {},
   "outputs": [
    {
     "data": {
      "text/plain": [
       "-1.0"
      ]
     },
     "execution_count": 9,
     "metadata": {},
     "output_type": "execute_result"
    }
   ],
   "source": [
    "# można też sprawdzić, czy funkcja zmienia znak dla lewego i prawego sąsiada miejsca zerowego.\n",
    "sign(f(prevfloat(x))) *sign(f(nextfloat(x))) "
   ]
  },
  {
   "cell_type": "code",
   "execution_count": 10,
   "metadata": {},
   "outputs": [
    {
     "data": {
      "text/plain": [
       "(3.1415926535897936, -3.216245299353273e-16)"
      ]
     },
     "execution_count": 10,
     "metadata": {},
     "output_type": "execute_result"
    }
   ],
   "source": [
    "# czasem algorytm znajduje najlepsze przybliżenie 0\n",
    "g(x) = sin(x)\n",
    "x = find_zero(g, (pi/2, 3pi/2))\n",
    "x, g(x)"
   ]
  },
  {
   "cell_type": "code",
   "execution_count": 11,
   "metadata": {},
   "outputs": [
    {
     "data": {
      "text/plain": [
       "false"
      ]
     },
     "execution_count": 11,
     "metadata": {},
     "output_type": "execute_result"
    }
   ],
   "source": [
    "# nie jest to dokładnie 0, ale ...\n",
    "iszero(g(x))"
   ]
  },
  {
   "cell_type": "code",
   "execution_count": 12,
   "metadata": {},
   "outputs": [
    {
     "data": {
      "text/plain": [
       "true"
      ]
     },
     "execution_count": 12,
     "metadata": {},
     "output_type": "execute_result"
    }
   ],
   "source": [
    "#... najbliższy lewy albo prawy sąsiad leży po przeciwnej stronie osi x  niż nasze 0.\n",
    "g(prevfloat(x)) * g(x) < 0.0 || g(x) * g(nextfloat(x)) < 0.0"
   ]
  },
  {
   "cell_type": "markdown",
   "metadata": {},
   "source": [
    "1.2 Metoda regula falsi"
   ]
  },
  {
   "cell_type": "code",
   "execution_count": 13,
   "metadata": {},
   "outputs": [
    {
     "name": "stdout",
     "output_type": "stream",
     "text": [
      "Results of univariate zero finding:\n",
      "\n",
      "* Converged to: 0.7390851332151606\n",
      "* Algorithm: FalsePosition{:anderson_bjork}()\n",
      "* iterations: 7\n",
      "* function evaluations: 9\n",
      "* stopped as |f(x_n)| ≤ max(δ, max(1,|x|)⋅ϵ) using δ = atol, ϵ = rtol\n",
      "\n",
      "Trace:\n",
      "(a_0, b_0) = ( 0.0000000000000000,  1.0000000000000000)\n",
      "(a_1, b_1) = ( 1.0000000000000000,  0.5000000000000000)\n",
      "(a_2, b_2) = ( 1.0000000000000000,  0.6370453475297477)\n",
      "(a_3, b_3) = ( 1.0000000000000000,  0.7205529551767942)\n",
      "(a_4, b_4) = ( 1.0000000000000000,  0.7383229967452796)\n",
      "(a_5, b_5) = ( 0.7383229967452796,  0.7390860519740818)\n",
      "(a_6, b_6) = ( 0.7390860519740818,  0.7390851330604866)\n",
      "(a_7, b_7) = ( 0.7390860519740818,  0.7390851332151606)\n",
      "\n"
     ]
    },
    {
     "data": {
      "text/plain": [
       "0.7390851332151606"
      ]
     },
     "execution_count": 13,
     "metadata": {},
     "output_type": "execute_result"
    }
   ],
   "source": [
    "find_zero(f, (0, 1), FalsePosition(), verbose=true) "
   ]
  },
  {
   "cell_type": "code",
   "execution_count": 14,
   "metadata": {},
   "outputs": [
    {
     "name": "stdout",
     "output_type": "stream",
     "text": [
      "Results of univariate zero finding:\n",
      "\n",
      "* Converged to: 0.7390851332151606\n",
      "* Algorithm: FalsePosition{12}()\n",
      "* iterations: 7\n",
      "* function evaluations: 9\n",
      "* stopped as |f(x_n)| ≤ max(δ, max(1,|x|)⋅ϵ) using δ = atol, ϵ = rtol\n",
      "\n",
      "Trace:\n",
      "(a_0, b_0) = ( 0.0000000000000000,  1.0000000000000000)\n",
      "(a_1, b_1) = ( 1.0000000000000000,  0.5000000000000000)\n",
      "(a_2, b_2) = ( 1.0000000000000000,  0.6370453475297477)\n",
      "(a_3, b_3) = ( 1.0000000000000000,  0.7205529551767942)\n",
      "(a_4, b_4) = ( 1.0000000000000000,  0.7383229967452796)\n",
      "(a_5, b_5) = ( 0.7383229967452796,  0.7390860519740818)\n",
      "(a_6, b_6) = ( 0.7390860519740818,  0.7390851330604866)\n",
      "(a_7, b_7) = ( 0.7390860519740818,  0.7390851332151606)\n",
      "\n"
     ]
    },
    {
     "data": {
      "text/plain": [
       "0.7390851332151606"
      ]
     },
     "execution_count": 14,
     "metadata": {},
     "output_type": "execute_result"
    }
   ],
   "source": [
    "# do dyspozycji mamy  12 wersji algorytmu regula falsi\n",
    "find_zero(f, (0, 1), FalsePosition(12), verbose=true)"
   ]
  },
  {
   "cell_type": "markdown",
   "metadata": {},
   "source": [
    "### 2.Metody korzytające z pochodnych\n",
    "\n",
    "2.1 Metoda Newtona, potrzebuje punktu startowego i wykorzystuje pochodną funkcji."
   ]
  },
  {
   "cell_type": "markdown",
   "metadata": {},
   "source": [
    "Aby użyć Metody Newtona, można skorzystać z pakietu ForwardDiff, aby obliczyć pochodną funkcji. "
   ]
  },
  {
   "cell_type": "code",
   "execution_count": 15,
   "metadata": {},
   "outputs": [
    {
     "data": {
      "text/plain": [
       "D (generic function with 1 method)"
      ]
     },
     "execution_count": 15,
     "metadata": {},
     "output_type": "execute_result"
    }
   ],
   "source": [
    "# definujemy D(f) obliczającą  funkcje pochodną \n",
    "D(f) = x->ForwardDiff.derivative(f, float(x))"
   ]
  },
  {
   "cell_type": "code",
   "execution_count": 16,
   "metadata": {},
   "outputs": [
    {
     "data": {
      "image/svg+xml": [
       "<?xml version=\"1.0\" encoding=\"utf-8\"?>\n",
       "<svg xmlns=\"http://www.w3.org/2000/svg\" xmlns:xlink=\"http://www.w3.org/1999/xlink\" width=\"600\" height=\"400\" viewBox=\"0 0 2400 1600\">\n",
       "<defs>\n",
       "  <clipPath id=\"clip4300\">\n",
       "    <rect x=\"0\" y=\"0\" width=\"2000\" height=\"2000\"/>\n",
       "  </clipPath>\n",
       "</defs>\n",
       "<defs>\n",
       "  <clipPath id=\"clip4301\">\n",
       "    <rect x=\"0\" y=\"0\" width=\"2400\" height=\"1600\"/>\n",
       "  </clipPath>\n",
       "</defs>\n",
       "<polygon clip-path=\"url(#clip4301)\" points=\"\n",
       "0,1600 2400,1600 2400,0 0,0 \n",
       "  \" fill=\"#ffffff\" fill-rule=\"evenodd\" fill-opacity=\"1\"/>\n",
       "<defs>\n",
       "  <clipPath id=\"clip4302\">\n",
       "    <rect x=\"480\" y=\"0\" width=\"1681\" height=\"1600\"/>\n",
       "  </clipPath>\n",
       "</defs>\n",
       "<polygon clip-path=\"url(#clip4301)\" points=\"\n",
       "189.504,1503.47 2321.26,1503.47 2321.26,47.2441 189.504,47.2441 \n",
       "  \" fill=\"#ffffff\" fill-rule=\"evenodd\" fill-opacity=\"1\"/>\n",
       "<defs>\n",
       "  <clipPath id=\"clip4303\">\n",
       "    <rect x=\"189\" y=\"47\" width=\"2133\" height=\"1457\"/>\n",
       "  </clipPath>\n",
       "</defs>\n",
       "<polyline clip-path=\"url(#clip4303)\" style=\"stroke:#000000; stroke-width:2; stroke-opacity:0.1; fill:none\" points=\"\n",
       "  239.905,1503.47 239.905,47.2441 \n",
       "  \"/>\n",
       "<polyline clip-path=\"url(#clip4303)\" style=\"stroke:#000000; stroke-width:2; stroke-opacity:0.1; fill:none\" points=\"\n",
       "  748.392,1503.47 748.392,47.2441 \n",
       "  \"/>\n",
       "<polyline clip-path=\"url(#clip4303)\" style=\"stroke:#000000; stroke-width:2; stroke-opacity:0.1; fill:none\" points=\"\n",
       "  1256.88,1503.47 1256.88,47.2441 \n",
       "  \"/>\n",
       "<polyline clip-path=\"url(#clip4303)\" style=\"stroke:#000000; stroke-width:2; stroke-opacity:0.1; fill:none\" points=\"\n",
       "  1765.37,1503.47 1765.37,47.2441 \n",
       "  \"/>\n",
       "<polyline clip-path=\"url(#clip4303)\" style=\"stroke:#000000; stroke-width:2; stroke-opacity:0.1; fill:none\" points=\"\n",
       "  2273.85,1503.47 2273.85,47.2441 \n",
       "  \"/>\n",
       "<polyline clip-path=\"url(#clip4303)\" style=\"stroke:#000000; stroke-width:2; stroke-opacity:0.1; fill:none\" points=\"\n",
       "  189.504,1463.05 2321.26,1463.05 \n",
       "  \"/>\n",
       "<polyline clip-path=\"url(#clip4303)\" style=\"stroke:#000000; stroke-width:2; stroke-opacity:0.1; fill:none\" points=\"\n",
       "  189.504,1119.33 2321.26,1119.33 \n",
       "  \"/>\n",
       "<polyline clip-path=\"url(#clip4303)\" style=\"stroke:#000000; stroke-width:2; stroke-opacity:0.1; fill:none\" points=\"\n",
       "  189.504,775.612 2321.26,775.612 \n",
       "  \"/>\n",
       "<polyline clip-path=\"url(#clip4303)\" style=\"stroke:#000000; stroke-width:2; stroke-opacity:0.1; fill:none\" points=\"\n",
       "  189.504,431.891 2321.26,431.891 \n",
       "  \"/>\n",
       "<polyline clip-path=\"url(#clip4303)\" style=\"stroke:#000000; stroke-width:2; stroke-opacity:0.1; fill:none\" points=\"\n",
       "  189.504,88.1702 2321.26,88.1702 \n",
       "  \"/>\n",
       "<polyline clip-path=\"url(#clip4301)\" style=\"stroke:#000000; stroke-width:4; stroke-opacity:1; fill:none\" points=\"\n",
       "  189.504,1503.47 2321.26,1503.47 \n",
       "  \"/>\n",
       "<polyline clip-path=\"url(#clip4301)\" style=\"stroke:#000000; stroke-width:4; stroke-opacity:1; fill:none\" points=\"\n",
       "  189.504,1503.47 189.504,47.2441 \n",
       "  \"/>\n",
       "<polyline clip-path=\"url(#clip4301)\" style=\"stroke:#000000; stroke-width:4; stroke-opacity:1; fill:none\" points=\"\n",
       "  239.905,1503.47 239.905,1481.63 \n",
       "  \"/>\n",
       "<polyline clip-path=\"url(#clip4301)\" style=\"stroke:#000000; stroke-width:4; stroke-opacity:1; fill:none\" points=\"\n",
       "  748.392,1503.47 748.392,1481.63 \n",
       "  \"/>\n",
       "<polyline clip-path=\"url(#clip4301)\" style=\"stroke:#000000; stroke-width:4; stroke-opacity:1; fill:none\" points=\"\n",
       "  1256.88,1503.47 1256.88,1481.63 \n",
       "  \"/>\n",
       "<polyline clip-path=\"url(#clip4301)\" style=\"stroke:#000000; stroke-width:4; stroke-opacity:1; fill:none\" points=\"\n",
       "  1765.37,1503.47 1765.37,1481.63 \n",
       "  \"/>\n",
       "<polyline clip-path=\"url(#clip4301)\" style=\"stroke:#000000; stroke-width:4; stroke-opacity:1; fill:none\" points=\"\n",
       "  2273.85,1503.47 2273.85,1481.63 \n",
       "  \"/>\n",
       "<polyline clip-path=\"url(#clip4301)\" style=\"stroke:#000000; stroke-width:4; stroke-opacity:1; fill:none\" points=\"\n",
       "  189.504,1463.05 221.48,1463.05 \n",
       "  \"/>\n",
       "<polyline clip-path=\"url(#clip4301)\" style=\"stroke:#000000; stroke-width:4; stroke-opacity:1; fill:none\" points=\"\n",
       "  189.504,1119.33 221.48,1119.33 \n",
       "  \"/>\n",
       "<polyline clip-path=\"url(#clip4301)\" style=\"stroke:#000000; stroke-width:4; stroke-opacity:1; fill:none\" points=\"\n",
       "  189.504,775.612 221.48,775.612 \n",
       "  \"/>\n",
       "<polyline clip-path=\"url(#clip4301)\" style=\"stroke:#000000; stroke-width:4; stroke-opacity:1; fill:none\" points=\"\n",
       "  189.504,431.891 221.48,431.891 \n",
       "  \"/>\n",
       "<polyline clip-path=\"url(#clip4301)\" style=\"stroke:#000000; stroke-width:4; stroke-opacity:1; fill:none\" points=\"\n",
       "  189.504,88.1702 221.48,88.1702 \n",
       "  \"/>\n",
       "<g clip-path=\"url(#clip4301)\">\n",
       "<text style=\"fill:#000000; fill-opacity:1; font-family:Arial,Helvetica Neue,Helvetica,sans-serif; font-size:48px; text-anchor:middle;\" transform=\"rotate(0, 239.905, 1557.47)\" x=\"239.905\" y=\"1557.47\">-2</text>\n",
       "</g>\n",
       "<g clip-path=\"url(#clip4301)\">\n",
       "<text style=\"fill:#000000; fill-opacity:1; font-family:Arial,Helvetica Neue,Helvetica,sans-serif; font-size:48px; text-anchor:middle;\" transform=\"rotate(0, 748.392, 1557.47)\" x=\"748.392\" y=\"1557.47\">-1</text>\n",
       "</g>\n",
       "<g clip-path=\"url(#clip4301)\">\n",
       "<text style=\"fill:#000000; fill-opacity:1; font-family:Arial,Helvetica Neue,Helvetica,sans-serif; font-size:48px; text-anchor:middle;\" transform=\"rotate(0, 1256.88, 1557.47)\" x=\"1256.88\" y=\"1557.47\">0</text>\n",
       "</g>\n",
       "<g clip-path=\"url(#clip4301)\">\n",
       "<text style=\"fill:#000000; fill-opacity:1; font-family:Arial,Helvetica Neue,Helvetica,sans-serif; font-size:48px; text-anchor:middle;\" transform=\"rotate(0, 1765.37, 1557.47)\" x=\"1765.37\" y=\"1557.47\">1</text>\n",
       "</g>\n",
       "<g clip-path=\"url(#clip4301)\">\n",
       "<text style=\"fill:#000000; fill-opacity:1; font-family:Arial,Helvetica Neue,Helvetica,sans-serif; font-size:48px; text-anchor:middle;\" transform=\"rotate(0, 2273.85, 1557.47)\" x=\"2273.85\" y=\"1557.47\">2</text>\n",
       "</g>\n",
       "<g clip-path=\"url(#clip4301)\">\n",
       "<text style=\"fill:#000000; fill-opacity:1; font-family:Arial,Helvetica Neue,Helvetica,sans-serif; font-size:48px; text-anchor:end;\" transform=\"rotate(0, 165.504, 1480.55)\" x=\"165.504\" y=\"1480.55\">-2.0</text>\n",
       "</g>\n",
       "<g clip-path=\"url(#clip4301)\">\n",
       "<text style=\"fill:#000000; fill-opacity:1; font-family:Arial,Helvetica Neue,Helvetica,sans-serif; font-size:48px; text-anchor:end;\" transform=\"rotate(0, 165.504, 1136.83)\" x=\"165.504\" y=\"1136.83\">-1.5</text>\n",
       "</g>\n",
       "<g clip-path=\"url(#clip4301)\">\n",
       "<text style=\"fill:#000000; fill-opacity:1; font-family:Arial,Helvetica Neue,Helvetica,sans-serif; font-size:48px; text-anchor:end;\" transform=\"rotate(0, 165.504, 793.112)\" x=\"165.504\" y=\"793.112\">-1.0</text>\n",
       "</g>\n",
       "<g clip-path=\"url(#clip4301)\">\n",
       "<text style=\"fill:#000000; fill-opacity:1; font-family:Arial,Helvetica Neue,Helvetica,sans-serif; font-size:48px; text-anchor:end;\" transform=\"rotate(0, 165.504, 449.391)\" x=\"165.504\" y=\"449.391\">-0.5</text>\n",
       "</g>\n",
       "<g clip-path=\"url(#clip4301)\">\n",
       "<text style=\"fill:#000000; fill-opacity:1; font-family:Arial,Helvetica Neue,Helvetica,sans-serif; font-size:48px; text-anchor:end;\" transform=\"rotate(0, 165.504, 105.67)\" x=\"165.504\" y=\"105.67\">0.0</text>\n",
       "</g>\n",
       "<polyline clip-path=\"url(#clip4303)\" style=\"stroke:#009af9; stroke-width:4; stroke-opacity:1; fill:none\" points=\"\n",
       "  249.837,145.055 259.768,139.828 351.6,103.207 443.432,88.4582 498.619,90.3463 553.806,100.298 600.466,114.92 647.126,135.101 697.812,163.124 748.498,197.227 \n",
       "  795.225,233.763 841.953,274.872 942.148,376.768 1058.23,513.834 1161.4,647.282 1251.86,768.827 1350.49,901.455 1449.71,1030.1 1559.4,1160.9 1663.78,1268.85 \n",
       "  1718.04,1317.05 1772.3,1359.09 1817.98,1389.34 1863.66,1414.65 1919.42,1438.55 1975.19,1454.47 2027.61,1462.01 2080.03,1462.26 2164.02,1447.49 2248,1414.43 \n",
       "  2260.93,1407.77 \n",
       "  \"/>\n",
       "<polygon clip-path=\"url(#clip4301)\" points=\"\n",
       "1958.43,251.724 2249.26,251.724 2249.26,130.764 1958.43,130.764 \n",
       "  \" fill=\"#ffffff\" fill-rule=\"evenodd\" fill-opacity=\"1\"/>\n",
       "<polyline clip-path=\"url(#clip4301)\" style=\"stroke:#000000; stroke-width:4; stroke-opacity:1; fill:none\" points=\"\n",
       "  1958.43,251.724 2249.26,251.724 2249.26,130.764 1958.43,130.764 1958.43,251.724 \n",
       "  \"/>\n",
       "<polyline clip-path=\"url(#clip4301)\" style=\"stroke:#009af9; stroke-width:4; stroke-opacity:1; fill:none\" points=\"\n",
       "  1982.43,191.244 2126.43,191.244 \n",
       "  \"/>\n",
       "<g clip-path=\"url(#clip4301)\">\n",
       "<text style=\"fill:#000000; fill-opacity:1; font-family:Arial,Helvetica Neue,Helvetica,sans-serif; font-size:48px; text-anchor:start;\" transform=\"rotate(0, 2150.43, 208.744)\" x=\"2150.43\" y=\"208.744\">y1</text>\n",
       "</g>\n",
       "</svg>\n"
      ]
     },
     "execution_count": 16,
     "metadata": {},
     "output_type": "execute_result"
    }
   ],
   "source": [
    "plot(D(f), -2,2)"
   ]
  },
  {
   "cell_type": "code",
   "execution_count": 17,
   "metadata": {},
   "outputs": [
    {
     "name": "stdout",
     "output_type": "stream",
     "text": [
      "Results of univariate zero finding:\n",
      "\n",
      "* Converged to: 0.7390851332151607\n",
      "* Algorithm: Roots.Newton()\n",
      "* iterations: 5\n",
      "* function evaluations: 11\n",
      "* stopped as |f(x_n)| ≤ max(δ, max(1,|x|)⋅ϵ) using δ = atol, ϵ = rtol\n",
      "\n",
      "Trace:\n",
      "x_0 =  0.0000000000000000,\t fx_0 =  1.0000000000000000\n",
      "x_1 =  1.0000000000000000,\t fx_1 = -0.4596976941318602\n",
      "x_2 =  0.7503638678402439,\t fx_2 = -0.0189230738221174\n",
      "x_3 =  0.7391128909113617,\t fx_3 = -0.0000464558989908\n",
      "x_4 =  0.7390851333852840,\t fx_4 = -0.0000000002847206\n",
      "x_5 =  0.7390851332151607,\t fx_5 =  0.0000000000000000\n",
      "\n"
     ]
    },
    {
     "data": {
      "text/plain": [
       "0.7390851332151607"
      ]
     },
     "execution_count": 17,
     "metadata": {},
     "output_type": "execute_result"
    }
   ],
   "source": [
    "#wywolanie metody Newtona\n",
    "find_zero((f, D(f)),0, Roots.Newton(),verbose=true)"
   ]
  },
  {
   "cell_type": "markdown",
   "metadata": {},
   "source": [
    "2.2 Metoda Halleya (potrzebuje pierwszej i drugiej pochodnej)"
   ]
  },
  {
   "cell_type": "code",
   "execution_count": 18,
   "metadata": {},
   "outputs": [
    {
     "name": "stdout",
     "output_type": "stream",
     "text": [
      "Results of univariate zero finding:\n",
      "\n",
      "* Converged to: 0.7390851332151606\n",
      "* Algorithm: Roots.Halley()\n",
      "* iterations: 4\n",
      "* function evaluations: 15\n",
      "* stopped as |f(x_n)| ≤ max(δ, max(1,|x|)⋅ϵ) using δ = atol, ϵ = rtol\n",
      "\n",
      "Trace:\n",
      "x_0 =  0.0000000000000000,\t fx_0 =  1.0000000000000000\n",
      "x_1 =  0.6666666666666666,\t fx_1 =  0.1192205941102814\n",
      "x_2 =  0.7390392624463102,\t fx_2 =  0.0000767690929604\n",
      "x_3 =  0.7390851332151495,\t fx_3 =  0.0000000000000187\n",
      "x_4 =  0.7390851332151606,\t fx_4 =  0.0000000000000001\n",
      "\n"
     ]
    },
    {
     "data": {
      "text/plain": [
       "0.7390851332151606"
      ]
     },
     "execution_count": 18,
     "metadata": {},
     "output_type": "execute_result"
    }
   ],
   "source": [
    "DD(f) = x->ForwardDiff.derivative(D(f), float(x))\n",
    "find_zero((f, D(f), DD(f)), 0.0, Roots.Halley(), verbose=true) "
   ]
  },
  {
   "cell_type": "markdown",
   "metadata": {},
   "source": [
    "### 3. Metody korzystające z przybliżenia pochodnej"
   ]
  },
  {
   "cell_type": "markdown",
   "metadata": {},
   "source": [
    "3.1 Domyślna metoda bazuje na metodzie z <a href=\"http://www.hpl.hp.com/hpjournal/pdfs/IssuePDFs/1979-12.pdf\"> kalkulatorów HP-34</a> , używa metody siecznych\n",
    "oraz metody bazującej na przedziale wg artykułu:\n",
    "\n",
    "<a href=\"http://na.math.kit.edu/alefeld/download/1995_Algorithm_748_Enclosing_Zeros_of_Continuous_Functions.pdf\">G. E. Alefeld, F. A. Potra, and\n",
    "Y. Shi, \"Algorithm 748: enclosing zeros of continuous functions,\" ACM\n",
    "Trans. Math. Softw. 21, 327–344 (1995), DOI: 10.1145/210089.210111. </a>"
   ]
  },
  {
   "cell_type": "code",
   "execution_count": 19,
   "metadata": {},
   "outputs": [
    {
     "name": "stdout",
     "output_type": "stream",
     "text": [
      "Results of univariate zero finding:\n",
      "\n",
      "* Converged to: 0.7390851332151607\n",
      "* Algorithm: Roots.Secant(), with possible bracketing with Roots.AlefeldPotraShi()\n",
      "* iterations: 2\n",
      "* function evaluations: 11\n",
      "* Note: Exact zero found. Bracketing used over (0.0, 0.9999969722835395), those steps not shown. \n",
      "\n",
      "Trace:\n",
      "x_0 =  0.0000000000000000,\t fx_0 =  1.0000000000000000\n",
      "\n"
     ]
    },
    {
     "data": {
      "text/plain": [
       "0.7390851332151607"
      ]
     },
     "execution_count": 19,
     "metadata": {},
     "output_type": "execute_result"
    }
   ],
   "source": [
    "x = find_zero(f, 0,   verbose=true)"
   ]
  },
  {
   "cell_type": "markdown",
   "metadata": {},
   "source": [
    "Metody find_zero dla wyzszych rzędów to wariacje metody Newtona, które nie korzystaja z pochodnej, ale ja przyblizają.\n"
   ]
  },
  {
   "cell_type": "markdown",
   "metadata": {},
   "source": [
    "3.2 Metoda siecznych"
   ]
  },
  {
   "cell_type": "code",
   "execution_count": 20,
   "metadata": {},
   "outputs": [
    {
     "name": "stdout",
     "output_type": "stream",
     "text": [
      "Results of univariate zero finding:\n",
      "\n",
      "* Converged to: 0.7390851332151607\n",
      "* Algorithm: Roots.Secant()\n",
      "* iterations: 7\n",
      "* function evaluations: 9\n",
      "* stopped as |f(x_n)| ≤ max(δ, max(1,|x|)⋅ϵ) using δ = atol, ϵ = rtol\n",
      "\n",
      "Trace:\n",
      "x_0 =  0.0000000000000000,\t fx_0 =  1.0000000000000000\n",
      "x_1 =  0.9999969722835395,\t fx_1 = -0.4596921186823245\n",
      "x_2 =  0.6850738998209051,\t fx_2 =  0.0892983907342114\n",
      "x_3 =  0.7362990541607765,\t fx_3 =  0.0046599445167861\n",
      "x_4 =  0.7391193608624661,\t fx_4 = -0.0000572842351875\n",
      "x_5 =  0.7390851121285389,\t fx_5 =  0.0000000352908237\n",
      "x_6 =  0.7390851332150014,\t fx_6 =  0.0000000000002666\n",
      "x_7 =  0.7390851332151607,\t fx_7 =  0.0000000000000000\n",
      "\n"
     ]
    },
    {
     "data": {
      "text/plain": [
       "0.7390851332151607"
      ]
     },
     "execution_count": 20,
     "metadata": {},
     "output_type": "execute_result"
    }
   ],
   "source": [
    "# wywołanie find_zero używając punktu startowego (a nie przedziału) \n",
    "# oraz opcji order=1   wykorzystuje metodę siecznych  \n",
    "x = find_zero(f, 0, Order1(),  verbose=true) "
   ]
  },
  {
   "cell_type": "code",
   "execution_count": 21,
   "metadata": {},
   "outputs": [
    {
     "data": {
      "text/plain": [
       "0.7390851332151607"
      ]
     },
     "execution_count": 21,
     "metadata": {},
     "output_type": "execute_result"
    }
   ],
   "source": [
    "# metoda siecznych może być wywołana bezpośrednio \n",
    "# implementacja taka sama jak find_zero(f, 0, Order1()), ale bez\n",
    "# narzutów frameworku oraz mniejsza ilość sprawdzanych warunków zbieżności - szybsza\n",
    "Roots.secant_method(f, 0)"
   ]
  },
  {
   "cell_type": "code",
   "execution_count": 22,
   "metadata": {},
   "outputs": [
    {
     "data": {
      "text/plain": [
       "0.7390851332151607"
      ]
     },
     "execution_count": 22,
     "metadata": {},
     "output_type": "execute_result"
    }
   ],
   "source": [
    "# mozemy podać przedział\n",
    "Roots.secant_method(f, (0,1))"
   ]
  },
  {
   "cell_type": "markdown",
   "metadata": {},
   "source": [
    "3.3 Metoda Steffensena \n",
    "przybliża pochodną poprzez  (f(x + f(x)) - f(x))/f(x)  \n",
    "aby ja wywołać podajemy punkt startowy oraz order 2"
   ]
  },
  {
   "cell_type": "code",
   "execution_count": 23,
   "metadata": {},
   "outputs": [
    {
     "name": "stdout",
     "output_type": "stream",
     "text": [
      "Results of univariate zero finding:\n",
      "\n",
      "* Converged to: 0.7390851332151607\n",
      "* Algorithm: Roots.Steffensen()\n",
      "* iterations: 6\n",
      "* function evaluations: 10\n",
      "* stopped as |f(x_n)| ≤ max(δ, max(1,|x|)⋅ϵ) using δ = atol, ϵ = rtol\n",
      "\n",
      "Trace:\n",
      "x_0 =  0.0000000000000000,\t fx_0 =  1.0000000000000000\n",
      "x_1 =  0.9999969722835395,\t fx_1 = -0.4596921186823245\n",
      "x_2 =  0.6850738998209051,\t fx_2 =  0.0892983907342114\n",
      "x_3 =  0.7362990541607765,\t fx_3 =  0.0046599445167861\n",
      "x_4 =  0.7391193608624661,\t fx_4 = -0.0000572842351875\n",
      "x_5 =  0.7390851330409081,\t fx_5 =  0.0000000002916313\n",
      "x_6 =  0.7390851332151607,\t fx_6 =  0.0000000000000000\n",
      "\n"
     ]
    },
    {
     "data": {
      "text/plain": [
       "0.7390851332151607"
      ]
     },
     "execution_count": 23,
     "metadata": {},
     "output_type": "execute_result"
    }
   ],
   "source": [
    "\n",
    "x = find_zero(f, 0, Order2(), verbose=true) "
   ]
  },
  {
   "cell_type": "code",
   "execution_count": 24,
   "metadata": {},
   "outputs": [
    {
     "name": "stdout",
     "output_type": "stream",
     "text": [
      "Results of univariate zero finding:\n",
      "\n",
      "* Converged to: 0.7390851332151607\n",
      "* Algorithm: Order16()\n",
      "* iterations: 2\n",
      "* function evaluations: 11\n",
      "* stopped as |f(x_n)| ≤ max(δ, max(1,|x|)⋅ϵ) using δ = atol, ϵ = rtol\n",
      "\n",
      "Trace:\n",
      "x_0 =  0.0000000000000000,\t fx_0 =  1.0000000000000000\n",
      "x_1 =  0.7401877925386848,\t fx_1 = -0.0018458730685117\n",
      "x_2 =  0.7390851332151607,\t fx_2 =  0.0000000000000000\n",
      "\n"
     ]
    },
    {
     "data": {
      "text/plain": [
       "0.7390851332151607"
      ]
     },
     "execution_count": 24,
     "metadata": {},
     "output_type": "execute_result"
    }
   ],
   "source": [
    "# mozliwe sa jeszcze rzędy 5, 8 i 16\n",
    "x = find_zero(f, 0, Order16(), verbose=true) "
   ]
  },
  {
   "cell_type": "markdown",
   "metadata": {},
   "source": [
    "Można użyć funkcji fzero do znajdowania nieciagłości"
   ]
  },
  {
   "cell_type": "code",
   "execution_count": 25,
   "metadata": {},
   "outputs": [
    {
     "data": {
      "image/svg+xml": [
       "<?xml version=\"1.0\" encoding=\"utf-8\"?>\n",
       "<svg xmlns=\"http://www.w3.org/2000/svg\" xmlns:xlink=\"http://www.w3.org/1999/xlink\" width=\"600\" height=\"400\" viewBox=\"0 0 2400 1600\">\n",
       "<defs>\n",
       "  <clipPath id=\"clip4500\">\n",
       "    <rect x=\"0\" y=\"0\" width=\"2000\" height=\"2000\"/>\n",
       "  </clipPath>\n",
       "</defs>\n",
       "<defs>\n",
       "  <clipPath id=\"clip4501\">\n",
       "    <rect x=\"0\" y=\"0\" width=\"2400\" height=\"1600\"/>\n",
       "  </clipPath>\n",
       "</defs>\n",
       "<polygon clip-path=\"url(#clip4501)\" points=\"\n",
       "0,1600 2400,1600 2400,0 0,0 \n",
       "  \" fill=\"#ffffff\" fill-rule=\"evenodd\" fill-opacity=\"1\"/>\n",
       "<defs>\n",
       "  <clipPath id=\"clip4502\">\n",
       "    <rect x=\"480\" y=\"0\" width=\"1681\" height=\"1600\"/>\n",
       "  </clipPath>\n",
       "</defs>\n",
       "<polygon clip-path=\"url(#clip4501)\" points=\"\n",
       "202.885,1503.47 2321.26,1503.47 2321.26,47.2441 202.885,47.2441 \n",
       "  \" fill=\"#ffffff\" fill-rule=\"evenodd\" fill-opacity=\"1\"/>\n",
       "<defs>\n",
       "  <clipPath id=\"clip4503\">\n",
       "    <rect x=\"202\" y=\"47\" width=\"2119\" height=\"1457\"/>\n",
       "  </clipPath>\n",
       "</defs>\n",
       "<polyline clip-path=\"url(#clip4503)\" style=\"stroke:#000000; stroke-width:2; stroke-opacity:0.1; fill:none\" points=\"\n",
       "  447.315,1503.47 447.315,47.2441 \n",
       "  \"/>\n",
       "<polyline clip-path=\"url(#clip4503)\" style=\"stroke:#000000; stroke-width:2; stroke-opacity:0.1; fill:none\" points=\"\n",
       "  856.198,1503.47 856.198,47.2441 \n",
       "  \"/>\n",
       "<polyline clip-path=\"url(#clip4503)\" style=\"stroke:#000000; stroke-width:2; stroke-opacity:0.1; fill:none\" points=\"\n",
       "  1265.08,1503.47 1265.08,47.2441 \n",
       "  \"/>\n",
       "<polyline clip-path=\"url(#clip4503)\" style=\"stroke:#000000; stroke-width:2; stroke-opacity:0.1; fill:none\" points=\"\n",
       "  1673.96,1503.47 1673.96,47.2441 \n",
       "  \"/>\n",
       "<polyline clip-path=\"url(#clip4503)\" style=\"stroke:#000000; stroke-width:2; stroke-opacity:0.1; fill:none\" points=\"\n",
       "  2082.85,1503.47 2082.85,47.2441 \n",
       "  \"/>\n",
       "<polyline clip-path=\"url(#clip4503)\" style=\"stroke:#000000; stroke-width:2; stroke-opacity:0.1; fill:none\" points=\"\n",
       "  202.885,1314.19 2321.26,1314.19 \n",
       "  \"/>\n",
       "<polyline clip-path=\"url(#clip4503)\" style=\"stroke:#000000; stroke-width:2; stroke-opacity:0.1; fill:none\" points=\"\n",
       "  202.885,1054.15 2321.26,1054.15 \n",
       "  \"/>\n",
       "<polyline clip-path=\"url(#clip4503)\" style=\"stroke:#000000; stroke-width:2; stroke-opacity:0.1; fill:none\" points=\"\n",
       "  202.885,794.118 2321.26,794.118 \n",
       "  \"/>\n",
       "<polyline clip-path=\"url(#clip4503)\" style=\"stroke:#000000; stroke-width:2; stroke-opacity:0.1; fill:none\" points=\"\n",
       "  202.885,534.083 2321.26,534.083 \n",
       "  \"/>\n",
       "<polyline clip-path=\"url(#clip4503)\" style=\"stroke:#000000; stroke-width:2; stroke-opacity:0.1; fill:none\" points=\"\n",
       "  202.885,274.049 2321.26,274.049 \n",
       "  \"/>\n",
       "<polyline clip-path=\"url(#clip4501)\" style=\"stroke:#000000; stroke-width:4; stroke-opacity:1; fill:none\" points=\"\n",
       "  202.885,1503.47 2321.26,1503.47 \n",
       "  \"/>\n",
       "<polyline clip-path=\"url(#clip4501)\" style=\"stroke:#000000; stroke-width:4; stroke-opacity:1; fill:none\" points=\"\n",
       "  202.885,1503.47 202.885,47.2441 \n",
       "  \"/>\n",
       "<polyline clip-path=\"url(#clip4501)\" style=\"stroke:#000000; stroke-width:4; stroke-opacity:1; fill:none\" points=\"\n",
       "  447.315,1503.47 447.315,1481.63 \n",
       "  \"/>\n",
       "<polyline clip-path=\"url(#clip4501)\" style=\"stroke:#000000; stroke-width:4; stroke-opacity:1; fill:none\" points=\"\n",
       "  856.198,1503.47 856.198,1481.63 \n",
       "  \"/>\n",
       "<polyline clip-path=\"url(#clip4501)\" style=\"stroke:#000000; stroke-width:4; stroke-opacity:1; fill:none\" points=\"\n",
       "  1265.08,1503.47 1265.08,1481.63 \n",
       "  \"/>\n",
       "<polyline clip-path=\"url(#clip4501)\" style=\"stroke:#000000; stroke-width:4; stroke-opacity:1; fill:none\" points=\"\n",
       "  1673.96,1503.47 1673.96,1481.63 \n",
       "  \"/>\n",
       "<polyline clip-path=\"url(#clip4501)\" style=\"stroke:#000000; stroke-width:4; stroke-opacity:1; fill:none\" points=\"\n",
       "  2082.85,1503.47 2082.85,1481.63 \n",
       "  \"/>\n",
       "<polyline clip-path=\"url(#clip4501)\" style=\"stroke:#000000; stroke-width:4; stroke-opacity:1; fill:none\" points=\"\n",
       "  202.885,1314.19 234.661,1314.19 \n",
       "  \"/>\n",
       "<polyline clip-path=\"url(#clip4501)\" style=\"stroke:#000000; stroke-width:4; stroke-opacity:1; fill:none\" points=\"\n",
       "  202.885,1054.15 234.661,1054.15 \n",
       "  \"/>\n",
       "<polyline clip-path=\"url(#clip4501)\" style=\"stroke:#000000; stroke-width:4; stroke-opacity:1; fill:none\" points=\"\n",
       "  202.885,794.118 234.661,794.118 \n",
       "  \"/>\n",
       "<polyline clip-path=\"url(#clip4501)\" style=\"stroke:#000000; stroke-width:4; stroke-opacity:1; fill:none\" points=\"\n",
       "  202.885,534.083 234.661,534.083 \n",
       "  \"/>\n",
       "<polyline clip-path=\"url(#clip4501)\" style=\"stroke:#000000; stroke-width:4; stroke-opacity:1; fill:none\" points=\"\n",
       "  202.885,274.049 234.661,274.049 \n",
       "  \"/>\n",
       "<g clip-path=\"url(#clip4501)\">\n",
       "<text style=\"fill:#000000; fill-opacity:1; font-family:Arial,Helvetica Neue,Helvetica,sans-serif; font-size:48px; text-anchor:middle;\" transform=\"rotate(0, 447.315, 1557.47)\" x=\"447.315\" y=\"1557.47\">-4</text>\n",
       "</g>\n",
       "<g clip-path=\"url(#clip4501)\">\n",
       "<text style=\"fill:#000000; fill-opacity:1; font-family:Arial,Helvetica Neue,Helvetica,sans-serif; font-size:48px; text-anchor:middle;\" transform=\"rotate(0, 856.198, 1557.47)\" x=\"856.198\" y=\"1557.47\">-2</text>\n",
       "</g>\n",
       "<g clip-path=\"url(#clip4501)\">\n",
       "<text style=\"fill:#000000; fill-opacity:1; font-family:Arial,Helvetica Neue,Helvetica,sans-serif; font-size:48px; text-anchor:middle;\" transform=\"rotate(0, 1265.08, 1557.47)\" x=\"1265.08\" y=\"1557.47\">0</text>\n",
       "</g>\n",
       "<g clip-path=\"url(#clip4501)\">\n",
       "<text style=\"fill:#000000; fill-opacity:1; font-family:Arial,Helvetica Neue,Helvetica,sans-serif; font-size:48px; text-anchor:middle;\" transform=\"rotate(0, 1673.96, 1557.47)\" x=\"1673.96\" y=\"1557.47\">2</text>\n",
       "</g>\n",
       "<g clip-path=\"url(#clip4501)\">\n",
       "<text style=\"fill:#000000; fill-opacity:1; font-family:Arial,Helvetica Neue,Helvetica,sans-serif; font-size:48px; text-anchor:middle;\" transform=\"rotate(0, 2082.85, 1557.47)\" x=\"2082.85\" y=\"1557.47\">4</text>\n",
       "</g>\n",
       "<g clip-path=\"url(#clip4501)\">\n",
       "<text style=\"fill:#000000; fill-opacity:1; font-family:Arial,Helvetica Neue,Helvetica,sans-serif; font-size:48px; text-anchor:end;\" transform=\"rotate(0, 178.885, 1331.69)\" x=\"178.885\" y=\"1331.69\">-400</text>\n",
       "</g>\n",
       "<g clip-path=\"url(#clip4501)\">\n",
       "<text style=\"fill:#000000; fill-opacity:1; font-family:Arial,Helvetica Neue,Helvetica,sans-serif; font-size:48px; text-anchor:end;\" transform=\"rotate(0, 178.885, 1071.65)\" x=\"178.885\" y=\"1071.65\">-200</text>\n",
       "</g>\n",
       "<g clip-path=\"url(#clip4501)\">\n",
       "<text style=\"fill:#000000; fill-opacity:1; font-family:Arial,Helvetica Neue,Helvetica,sans-serif; font-size:48px; text-anchor:end;\" transform=\"rotate(0, 178.885, 811.618)\" x=\"178.885\" y=\"811.618\">0</text>\n",
       "</g>\n",
       "<g clip-path=\"url(#clip4501)\">\n",
       "<text style=\"fill:#000000; fill-opacity:1; font-family:Arial,Helvetica Neue,Helvetica,sans-serif; font-size:48px; text-anchor:end;\" transform=\"rotate(0, 178.885, 551.583)\" x=\"178.885\" y=\"551.583\">200</text>\n",
       "</g>\n",
       "<g clip-path=\"url(#clip4501)\">\n",
       "<text style=\"fill:#000000; fill-opacity:1; font-family:Arial,Helvetica Neue,Helvetica,sans-serif; font-size:48px; text-anchor:end;\" transform=\"rotate(0, 178.885, 291.549)\" x=\"178.885\" y=\"291.549\">400</text>\n",
       "</g>\n",
       "<polyline clip-path=\"url(#clip4503)\" style=\"stroke:#009af9; stroke-width:4; stroke-opacity:1; fill:none\" points=\"\n",
       "  262.839,794.383 447.448,794.443 558.39,794.494 652.191,794.552 754.084,794.638 848.02,794.756 948.73,794.958 1065.41,795.449 1091.34,795.648 1117.26,795.916 \n",
       "  1143.18,796.299 1169.11,796.888 1180.47,797.26 1191.84,797.747 1203.21,798.414 1214.57,799.381 1220.25,800.048 1225.94,800.909 1231.62,802.062 1237.3,803.687 \n",
       "  1242.99,806.149 1248.67,810.315 1251.51,813.707 1254.35,818.895 1255.77,822.678 1257.19,827.823 1258.62,835.229 1260.04,846.807 1260.81,856.363 1261.59,870.153 \n",
       "  1262.36,891.793 1263.13,930.65 1263.91,1020.85 1264.68,1462.26 1265.46,88.4582 1266.23,563.22 1267.01,656.086 1267.78,695.679 1268.56,717.621 1269.33,731.564 \n",
       "  1270.11,741.208 1270.88,748.275 1271.65,753.677 1272.43,757.94 1273.98,764.24 1275.53,768.671 1277.08,771.957 1278.62,774.492 1281.72,778.146 1284.82,780.652 \n",
       "  1291.02,783.869 1297.21,785.846 1303.41,787.183 1309.61,788.148 1322,789.448 1334.39,790.283 1346.78,790.865 1359.17,791.293 1384.11,791.885 1409.04,792.272 \n",
       "  1433.97,792.544 1458.9,792.747 1569.16,793.244 1674.07,793.468 1783.16,793.605 1874.98,793.682 1987.09,793.75 2092.47,793.797 2261.31,793.851 \n",
       "  \"/>\n",
       "<polygon clip-path=\"url(#clip4501)\" points=\"\n",
       "1958.43,251.724 2249.26,251.724 2249.26,130.764 1958.43,130.764 \n",
       "  \" fill=\"#ffffff\" fill-rule=\"evenodd\" fill-opacity=\"1\"/>\n",
       "<polyline clip-path=\"url(#clip4501)\" style=\"stroke:#000000; stroke-width:4; stroke-opacity:1; fill:none\" points=\"\n",
       "  1958.43,251.724 2249.26,251.724 2249.26,130.764 1958.43,130.764 1958.43,251.724 \n",
       "  \"/>\n",
       "<polyline clip-path=\"url(#clip4501)\" style=\"stroke:#009af9; stroke-width:4; stroke-opacity:1; fill:none\" points=\"\n",
       "  1982.43,191.244 2126.43,191.244 \n",
       "  \"/>\n",
       "<g clip-path=\"url(#clip4501)\">\n",
       "<text style=\"fill:#000000; fill-opacity:1; font-family:Arial,Helvetica Neue,Helvetica,sans-serif; font-size:48px; text-anchor:start;\" transform=\"rotate(0, 2150.43, 208.744)\" x=\"2150.43\" y=\"208.744\">y1</text>\n",
       "</g>\n",
       "</svg>\n"
      ]
     },
     "execution_count": 25,
     "metadata": {},
     "output_type": "execute_result"
    }
   ],
   "source": [
    "plot(x -> 1/x)"
   ]
  },
  {
   "cell_type": "code",
   "execution_count": 26,
   "metadata": {},
   "outputs": [
    {
     "name": "stdout",
     "output_type": "stream",
     "text": [
      "Results of univariate zero finding:\n",
      "\n",
      "* Converged to: 0.0\n",
      "* Algorithm: Roots.BisectionExact()\n",
      "* iterations: 61\n",
      "* function evaluations: 63\n",
      "* stopped as x_n ≈ x_{n-1} using atol=xatol, rtol=xrtol\n",
      "* Note: Change of sign at xn identified. \n",
      "\n",
      "Trace:\n",
      "(a_0, b_0) = (-1.0000000000000000,  0.0000000000000000)\n",
      "(a_1, b_1) = (-0.0000000000000000,  0.0000000000000000)\n",
      "(a_2, b_2) = (-0.0000000000000000,  0.0000000000000000)\n",
      "(a_3, b_3) = (-0.0000000000000000,  0.0000000000000000)\n",
      "(a_4, b_4) = (-0.0000000000000000,  0.0000000000000000)\n",
      "(a_5, b_5) = (-0.0000000000000000,  0.0000000000000000)\n",
      "(a_6, b_6) = (-0.0000000000000000,  0.0000000000000000)\n",
      "(a_7, b_7) = (-0.0000000000000000,  0.0000000000000000)\n",
      "(a_8, b_8) = (-0.0000000000000000,  0.0000000000000000)\n",
      "(a_9, b_9) = (-0.0000000000000000,  0.0000000000000000)\n",
      "(a_10, b_10) = (-0.0000000000000000,  0.0000000000000000)\n",
      "(a_11, b_11) = (-0.0000000000000000,  0.0000000000000000)\n",
      "(a_12, b_12) = (-0.0000000000000000,  0.0000000000000000)\n",
      "(a_13, b_13) = (-0.0000000000000000,  0.0000000000000000)\n",
      "(a_14, b_14) = (-0.0000000000000000,  0.0000000000000000)\n",
      "(a_15, b_15) = (-0.0000000000000000,  0.0000000000000000)\n",
      "(a_16, b_16) = (-0.0000000000000000,  0.0000000000000000)\n",
      "(a_17, b_17) = (-0.0000000000000000,  0.0000000000000000)\n",
      "(a_18, b_18) = (-0.0000000000000000,  0.0000000000000000)\n",
      "(a_19, b_19) = (-0.0000000000000000,  0.0000000000000000)\n",
      "(a_20, b_20) = (-0.0000000000000000,  0.0000000000000000)\n",
      "(a_21, b_21) = (-0.0000000000000000,  0.0000000000000000)\n",
      "(a_22, b_22) = (-0.0000000000000000,  0.0000000000000000)\n",
      "(a_23, b_23) = (-0.0000000000000000,  0.0000000000000000)\n",
      "(a_24, b_24) = (-0.0000000000000000,  0.0000000000000000)\n",
      "(a_25, b_25) = (-0.0000000000000000,  0.0000000000000000)\n",
      "(a_26, b_26) = (-0.0000000000000000,  0.0000000000000000)\n",
      "(a_27, b_27) = (-0.0000000000000000,  0.0000000000000000)\n",
      "(a_28, b_28) = (-0.0000000000000000,  0.0000000000000000)\n",
      "(a_29, b_29) = (-0.0000000000000000,  0.0000000000000000)\n",
      "(a_30, b_30) = (-0.0000000000000000,  0.0000000000000000)\n",
      "(a_31, b_31) = (-0.0000000000000000,  0.0000000000000000)\n",
      "(a_32, b_32) = (-0.0000000000000000,  0.0000000000000000)\n",
      "(a_33, b_33) = (-0.0000000000000000,  0.0000000000000000)\n",
      "(a_34, b_34) = (-0.0000000000000000,  0.0000000000000000)\n",
      "(a_35, b_35) = (-0.0000000000000000,  0.0000000000000000)\n",
      "(a_36, b_36) = (-0.0000000000000000,  0.0000000000000000)\n",
      "(a_37, b_37) = (-0.0000000000000000,  0.0000000000000000)\n",
      "(a_38, b_38) = (-0.0000000000000000,  0.0000000000000000)\n",
      "(a_39, b_39) = (-0.0000000000000000,  0.0000000000000000)\n",
      "(a_40, b_40) = (-0.0000000000000000,  0.0000000000000000)\n",
      "(a_41, b_41) = (-0.0000000000000000,  0.0000000000000000)\n",
      "(a_42, b_42) = (-0.0000000000000000,  0.0000000000000000)\n",
      "(a_43, b_43) = (-0.0000000000000000,  0.0000000000000000)\n",
      "(a_44, b_44) = (-0.0000000000000000,  0.0000000000000000)\n",
      "(a_45, b_45) = (-0.0000000000000000,  0.0000000000000000)\n",
      "(a_46, b_46) = (-0.0000000000000000,  0.0000000000000000)\n",
      "(a_47, b_47) = (-0.0000000000000000,  0.0000000000000000)\n",
      "(a_48, b_48) = (-0.0000000000000000,  0.0000000000000000)\n",
      "(a_49, b_49) = (-0.0000000000000000,  0.0000000000000000)\n",
      "(a_50, b_50) = (-0.0000000000000000,  0.0000000000000000)\n",
      "(a_51, b_51) = (-0.0000000000000000,  0.0000000000000000)\n",
      "(a_52, b_52) = (-0.0000000000000000,  0.0000000000000000)\n",
      "(a_53, b_53) = (-0.0000000000000000,  0.0000000000000000)\n",
      "(a_54, b_54) = (-0.0000000000000000,  0.0000000000000000)\n",
      "(a_55, b_55) = (-0.0000000000000000,  0.0000000000000000)\n",
      "(a_56, b_56) = (-0.0000000000000000,  0.0000000000000000)\n",
      "(a_57, b_57) = (-0.0000000000000000,  0.0000000000000000)\n",
      "(a_58, b_58) = (-0.0000000000000000,  0.0000000000000000)\n",
      "(a_59, b_59) = (-0.0000000000000000,  0.0000000000000000)\n",
      "(a_60, b_60) = (-0.0000000000000000,  0.0000000000000000)\n",
      "(a_61, b_61) = (-0.0000000000000000,  0.0000000000000000)\n",
      "\n"
     ]
    },
    {
     "data": {
      "text/plain": [
       "0.0"
      ]
     },
     "execution_count": 26,
     "metadata": {},
     "output_type": "execute_result"
    }
   ],
   "source": [
    "find_zero(x -> 1/x, (-1, 1), verbose=true)"
   ]
  },
  {
   "cell_type": "markdown",
   "metadata": {},
   "source": [
    "find_zeros - szukanie więcej niż jednego pierwiastka. Wykorzystuje podział przedziału na mniejsze podprzedziały"
   ]
  },
  {
   "cell_type": "code",
   "execution_count": 24,
   "metadata": {},
   "outputs": [
    {
     "data": {
      "text/plain": [
       "2-element Array{Float64,1}:\n",
       " 0.0\n",
       " 3.0"
      ]
     },
     "execution_count": 24,
     "metadata": {},
     "output_type": "execute_result"
    }
   ],
   "source": [
    "find_zeros(x ->(x-3)*x, -10, 10)"
   ]
  },
  {
   "cell_type": "code",
   "execution_count": 25,
   "metadata": {
    "scrolled": true
   },
   "outputs": [
    {
     "data": {
      "image/svg+xml": [
       "<?xml version=\"1.0\" encoding=\"utf-8\"?>\n",
       "<svg xmlns=\"http://www.w3.org/2000/svg\" xmlns:xlink=\"http://www.w3.org/1999/xlink\" width=\"600\" height=\"400\" viewBox=\"0 0 2400 1600\">\n",
       "<defs>\n",
       "  <clipPath id=\"clip7500\">\n",
       "    <rect x=\"0\" y=\"0\" width=\"2000\" height=\"2000\"/>\n",
       "  </clipPath>\n",
       "</defs>\n",
       "<defs>\n",
       "  <clipPath id=\"clip7501\">\n",
       "    <rect x=\"0\" y=\"0\" width=\"2400\" height=\"1600\"/>\n",
       "  </clipPath>\n",
       "</defs>\n",
       "<polygon clip-path=\"url(#clip7501)\" points=\"\n",
       "0,1600 2400,1600 2400,0 0,0 \n",
       "  \" fill=\"#ffffff\" fill-opacity=\"1\"/>\n",
       "<defs>\n",
       "  <clipPath id=\"clip7502\">\n",
       "    <rect x=\"480\" y=\"0\" width=\"1681\" height=\"1600\"/>\n",
       "  </clipPath>\n",
       "</defs>\n",
       "<polygon clip-path=\"url(#clip7501)\" points=\"\n",
       "149.361,1503.47 2321.26,1503.47 2321.26,47.2441 149.361,47.2441 \n",
       "  \" fill=\"#ffffff\" fill-opacity=\"1\"/>\n",
       "<defs>\n",
       "  <clipPath id=\"clip7503\">\n",
       "    <rect x=\"149\" y=\"47\" width=\"2173\" height=\"1457\"/>\n",
       "  </clipPath>\n",
       "</defs>\n",
       "<polyline clip-path=\"url(#clip7503)\" style=\"stroke:#000000; stroke-width:2; stroke-opacity:0.1; fill:none\" points=\"\n",
       "  205.799,1503.47 205.799,47.2441 \n",
       "  \"/>\n",
       "<polyline clip-path=\"url(#clip7503)\" style=\"stroke:#000000; stroke-width:2; stroke-opacity:0.1; fill:none\" points=\"\n",
       "  617.907,1503.47 617.907,47.2441 \n",
       "  \"/>\n",
       "<polyline clip-path=\"url(#clip7503)\" style=\"stroke:#000000; stroke-width:2; stroke-opacity:0.1; fill:none\" points=\"\n",
       "  1030.01,1503.47 1030.01,47.2441 \n",
       "  \"/>\n",
       "<polyline clip-path=\"url(#clip7503)\" style=\"stroke:#000000; stroke-width:2; stroke-opacity:0.1; fill:none\" points=\"\n",
       "  1442.12,1503.47 1442.12,47.2441 \n",
       "  \"/>\n",
       "<polyline clip-path=\"url(#clip7503)\" style=\"stroke:#000000; stroke-width:2; stroke-opacity:0.1; fill:none\" points=\"\n",
       "  1854.23,1503.47 1854.23,47.2441 \n",
       "  \"/>\n",
       "<polyline clip-path=\"url(#clip7503)\" style=\"stroke:#000000; stroke-width:2; stroke-opacity:0.1; fill:none\" points=\"\n",
       "  2266.34,1503.47 2266.34,47.2441 \n",
       "  \"/>\n",
       "<polyline clip-path=\"url(#clip7503)\" style=\"stroke:#000000; stroke-width:2; stroke-opacity:0.1; fill:none\" points=\"\n",
       "  149.361,1406.8 2321.26,1406.8 \n",
       "  \"/>\n",
       "<polyline clip-path=\"url(#clip7503)\" style=\"stroke:#000000; stroke-width:2; stroke-opacity:0.1; fill:none\" points=\"\n",
       "  149.361,1184.82 2321.26,1184.82 \n",
       "  \"/>\n",
       "<polyline clip-path=\"url(#clip7503)\" style=\"stroke:#000000; stroke-width:2; stroke-opacity:0.1; fill:none\" points=\"\n",
       "  149.361,962.848 2321.26,962.848 \n",
       "  \"/>\n",
       "<polyline clip-path=\"url(#clip7503)\" style=\"stroke:#000000; stroke-width:2; stroke-opacity:0.1; fill:none\" points=\"\n",
       "  149.361,740.871 2321.26,740.871 \n",
       "  \"/>\n",
       "<polyline clip-path=\"url(#clip7503)\" style=\"stroke:#000000; stroke-width:2; stroke-opacity:0.1; fill:none\" points=\"\n",
       "  149.361,518.895 2321.26,518.895 \n",
       "  \"/>\n",
       "<polyline clip-path=\"url(#clip7503)\" style=\"stroke:#000000; stroke-width:2; stroke-opacity:0.1; fill:none\" points=\"\n",
       "  149.361,296.919 2321.26,296.919 \n",
       "  \"/>\n",
       "<polyline clip-path=\"url(#clip7503)\" style=\"stroke:#000000; stroke-width:2; stroke-opacity:0.1; fill:none\" points=\"\n",
       "  149.361,74.9426 2321.26,74.9426 \n",
       "  \"/>\n",
       "<polyline clip-path=\"url(#clip7501)\" style=\"stroke:#000000; stroke-width:4; stroke-opacity:1; fill:none\" points=\"\n",
       "  149.361,1503.47 2321.26,1503.47 \n",
       "  \"/>\n",
       "<polyline clip-path=\"url(#clip7501)\" style=\"stroke:#000000; stroke-width:4; stroke-opacity:1; fill:none\" points=\"\n",
       "  149.361,1503.47 149.361,47.2441 \n",
       "  \"/>\n",
       "<polyline clip-path=\"url(#clip7501)\" style=\"stroke:#000000; stroke-width:4; stroke-opacity:1; fill:none\" points=\"\n",
       "  205.799,1503.47 205.799,1481.63 \n",
       "  \"/>\n",
       "<polyline clip-path=\"url(#clip7501)\" style=\"stroke:#000000; stroke-width:4; stroke-opacity:1; fill:none\" points=\"\n",
       "  617.907,1503.47 617.907,1481.63 \n",
       "  \"/>\n",
       "<polyline clip-path=\"url(#clip7501)\" style=\"stroke:#000000; stroke-width:4; stroke-opacity:1; fill:none\" points=\"\n",
       "  1030.01,1503.47 1030.01,1481.63 \n",
       "  \"/>\n",
       "<polyline clip-path=\"url(#clip7501)\" style=\"stroke:#000000; stroke-width:4; stroke-opacity:1; fill:none\" points=\"\n",
       "  1442.12,1503.47 1442.12,1481.63 \n",
       "  \"/>\n",
       "<polyline clip-path=\"url(#clip7501)\" style=\"stroke:#000000; stroke-width:4; stroke-opacity:1; fill:none\" points=\"\n",
       "  1854.23,1503.47 1854.23,1481.63 \n",
       "  \"/>\n",
       "<polyline clip-path=\"url(#clip7501)\" style=\"stroke:#000000; stroke-width:4; stroke-opacity:1; fill:none\" points=\"\n",
       "  2266.34,1503.47 2266.34,1481.63 \n",
       "  \"/>\n",
       "<polyline clip-path=\"url(#clip7501)\" style=\"stroke:#000000; stroke-width:4; stroke-opacity:1; fill:none\" points=\"\n",
       "  149.361,1406.8 181.939,1406.8 \n",
       "  \"/>\n",
       "<polyline clip-path=\"url(#clip7501)\" style=\"stroke:#000000; stroke-width:4; stroke-opacity:1; fill:none\" points=\"\n",
       "  149.361,1184.82 181.939,1184.82 \n",
       "  \"/>\n",
       "<polyline clip-path=\"url(#clip7501)\" style=\"stroke:#000000; stroke-width:4; stroke-opacity:1; fill:none\" points=\"\n",
       "  149.361,962.848 181.939,962.848 \n",
       "  \"/>\n",
       "<polyline clip-path=\"url(#clip7501)\" style=\"stroke:#000000; stroke-width:4; stroke-opacity:1; fill:none\" points=\"\n",
       "  149.361,740.871 181.939,740.871 \n",
       "  \"/>\n",
       "<polyline clip-path=\"url(#clip7501)\" style=\"stroke:#000000; stroke-width:4; stroke-opacity:1; fill:none\" points=\"\n",
       "  149.361,518.895 181.939,518.895 \n",
       "  \"/>\n",
       "<polyline clip-path=\"url(#clip7501)\" style=\"stroke:#000000; stroke-width:4; stroke-opacity:1; fill:none\" points=\"\n",
       "  149.361,296.919 181.939,296.919 \n",
       "  \"/>\n",
       "<polyline clip-path=\"url(#clip7501)\" style=\"stroke:#000000; stroke-width:4; stroke-opacity:1; fill:none\" points=\"\n",
       "  149.361,74.9426 181.939,74.9426 \n",
       "  \"/>\n",
       "<g clip-path=\"url(#clip7501)\">\n",
       "<text style=\"fill:#000000; fill-opacity:1; font-family:Arial,Helvetica Neue,Helvetica,sans-serif; font-size:48; text-anchor:middle;\" transform=\"rotate(0, 205.799, 1557.47)\" x=\"205.799\" y=\"1557.47\">-1</text>\n",
       "</g>\n",
       "<g clip-path=\"url(#clip7501)\">\n",
       "<text style=\"fill:#000000; fill-opacity:1; font-family:Arial,Helvetica Neue,Helvetica,sans-serif; font-size:48; text-anchor:middle;\" transform=\"rotate(0, 617.907, 1557.47)\" x=\"617.907\" y=\"1557.47\">0</text>\n",
       "</g>\n",
       "<g clip-path=\"url(#clip7501)\">\n",
       "<text style=\"fill:#000000; fill-opacity:1; font-family:Arial,Helvetica Neue,Helvetica,sans-serif; font-size:48; text-anchor:middle;\" transform=\"rotate(0, 1030.01, 1557.47)\" x=\"1030.01\" y=\"1557.47\">1</text>\n",
       "</g>\n",
       "<g clip-path=\"url(#clip7501)\">\n",
       "<text style=\"fill:#000000; fill-opacity:1; font-family:Arial,Helvetica Neue,Helvetica,sans-serif; font-size:48; text-anchor:middle;\" transform=\"rotate(0, 1442.12, 1557.47)\" x=\"1442.12\" y=\"1557.47\">2</text>\n",
       "</g>\n",
       "<g clip-path=\"url(#clip7501)\">\n",
       "<text style=\"fill:#000000; fill-opacity:1; font-family:Arial,Helvetica Neue,Helvetica,sans-serif; font-size:48; text-anchor:middle;\" transform=\"rotate(0, 1854.23, 1557.47)\" x=\"1854.23\" y=\"1557.47\">3</text>\n",
       "</g>\n",
       "<g clip-path=\"url(#clip7501)\">\n",
       "<text style=\"fill:#000000; fill-opacity:1; font-family:Arial,Helvetica Neue,Helvetica,sans-serif; font-size:48; text-anchor:middle;\" transform=\"rotate(0, 2266.34, 1557.47)\" x=\"2266.34\" y=\"1557.47\">4</text>\n",
       "</g>\n",
       "<g clip-path=\"url(#clip7501)\">\n",
       "<text style=\"fill:#000000; fill-opacity:1; font-family:Arial,Helvetica Neue,Helvetica,sans-serif; font-size:48; text-anchor:end;\" transform=\"rotate(0, 125.361, 1424.3)\" x=\"125.361\" y=\"1424.3\">-2</text>\n",
       "</g>\n",
       "<g clip-path=\"url(#clip7501)\">\n",
       "<text style=\"fill:#000000; fill-opacity:1; font-family:Arial,Helvetica Neue,Helvetica,sans-serif; font-size:48; text-anchor:end;\" transform=\"rotate(0, 125.361, 1202.32)\" x=\"125.361\" y=\"1202.32\">-1</text>\n",
       "</g>\n",
       "<g clip-path=\"url(#clip7501)\">\n",
       "<text style=\"fill:#000000; fill-opacity:1; font-family:Arial,Helvetica Neue,Helvetica,sans-serif; font-size:48; text-anchor:end;\" transform=\"rotate(0, 125.361, 980.348)\" x=\"125.361\" y=\"980.348\">0</text>\n",
       "</g>\n",
       "<g clip-path=\"url(#clip7501)\">\n",
       "<text style=\"fill:#000000; fill-opacity:1; font-family:Arial,Helvetica Neue,Helvetica,sans-serif; font-size:48; text-anchor:end;\" transform=\"rotate(0, 125.361, 758.371)\" x=\"125.361\" y=\"758.371\">1</text>\n",
       "</g>\n",
       "<g clip-path=\"url(#clip7501)\">\n",
       "<text style=\"fill:#000000; fill-opacity:1; font-family:Arial,Helvetica Neue,Helvetica,sans-serif; font-size:48; text-anchor:end;\" transform=\"rotate(0, 125.361, 536.395)\" x=\"125.361\" y=\"536.395\">2</text>\n",
       "</g>\n",
       "<g clip-path=\"url(#clip7501)\">\n",
       "<text style=\"fill:#000000; fill-opacity:1; font-family:Arial,Helvetica Neue,Helvetica,sans-serif; font-size:48; text-anchor:end;\" transform=\"rotate(0, 125.361, 314.419)\" x=\"125.361\" y=\"314.419\">3</text>\n",
       "</g>\n",
       "<g clip-path=\"url(#clip7501)\">\n",
       "<text style=\"fill:#000000; fill-opacity:1; font-family:Arial,Helvetica Neue,Helvetica,sans-serif; font-size:48; text-anchor:end;\" transform=\"rotate(0, 125.361, 92.4426)\" x=\"125.361\" y=\"92.4426\">4</text>\n",
       "</g>\n",
       "<polyline clip-path=\"url(#clip7503)\" style=\"stroke:#009af9; stroke-width:4; stroke-opacity:1; fill:none\" points=\"\n",
       "  210.829,88.4582 215.86,101.908 220.891,115.291 225.922,128.608 272.438,248.61 318.954,362.955 365.47,471.644 411.986,574.677 467.895,691.03 523.804,799.212 \n",
       "  571.074,884.303 618.344,963.554 669.692,1043.02 721.041,1115.6 768.379,1176.4 815.718,1231.35 866.47,1283.75 917.222,1329.42 976.024,1373.91 1034.83,1409.36 \n",
       "  1087.08,1433.28 1139.34,1450.06 1185.16,1458.91 1230.98,1462.26 1280.94,1459.66 1330.9,1450.54 1381.16,1434.78 1431.42,1412.42 1486.98,1380.01 1542.55,1339.53 \n",
       "  1595.42,1293.52 1648.29,1240.2 1703.26,1177.01 1758.23,1105.93 1804.5,1039.97 1850.78,968.41 1907.27,873.456 1963.77,770.159 2016.88,665.448 2069.99,553.365 \n",
       "  2112.53,458.264 2155.07,358.431 2197.61,253.868 2240.15,144.574 2246.7,127.335 2253.24,109.983 2259.79,92.5186 \n",
       "  \"/>\n",
       "<polygon clip-path=\"url(#clip7501)\" points=\"\n",
       "1958.43,251.724 2249.26,251.724 2249.26,130.764 1958.43,130.764 \n",
       "  \" fill=\"#ffffff\" fill-opacity=\"1\"/>\n",
       "<polyline clip-path=\"url(#clip7501)\" style=\"stroke:#000000; stroke-width:4; stroke-opacity:1; fill:none\" points=\"\n",
       "  1958.43,251.724 2249.26,251.724 2249.26,130.764 1958.43,130.764 1958.43,251.724 \n",
       "  \"/>\n",
       "<polyline clip-path=\"url(#clip7501)\" style=\"stroke:#009af9; stroke-width:4; stroke-opacity:1; fill:none\" points=\"\n",
       "  1982.43,191.244 2126.43,191.244 \n",
       "  \"/>\n",
       "<g clip-path=\"url(#clip7501)\">\n",
       "<text style=\"fill:#000000; fill-opacity:1; font-family:Arial,Helvetica Neue,Helvetica,sans-serif; font-size:48; text-anchor:start;\" transform=\"rotate(0, 2150.43, 208.744)\" x=\"2150.43\" y=\"208.744\">y1</text>\n",
       "</g>\n",
       "</svg>\n"
      ]
     },
     "execution_count": 25,
     "metadata": {},
     "output_type": "execute_result"
    }
   ],
   "source": [
    "plot(x ->(x-3)*x,-1,4)"
   ]
  },
  {
   "cell_type": "markdown",
   "metadata": {},
   "source": [
    "Więcej na https://github.com/JuliaMath/Roots.jl/blob/master/doc/roots.ipynb"
   ]
  },
  {
   "cell_type": "markdown",
   "metadata": {},
   "source": [
    "### Zadanie:\n",
    "\n",
    "A. Wybrać trzy metody poszukiwania pierwiastków: \n",
    "\n",
    "* wykorzystującą przedział i zmianę znaku, \n",
    "* wykorzystującą pochodną, \n",
    "* wykorzystującą przybliżenie pochodnej\n",
    "\n",
    "1.Każdą z trzech wybranych metod przetestować (ilość iteracji, ilość wywołań funkcji) na sześciu wybranych  funkcjach ze zbioru http://people.sc.fsu.edu/~jburkardt/py_src/test_zero/test_zero.html Wyniki przedstawić w formie tabelki. <b> Pamiętać o sprawdzeniu czy wynik jest poprawny poprzez obliczenie wartości funkcji dla znalezionego pierwiastka !</b>\n",
    "\n",
    "2.Zademonstrować wybrany, ciekawy przykład trudnej funkcji z p.1 i działania metod na niej.\n",
    "\n",
    "3.Dla każdej z wybranych metod zademonstrować i wyjaśnić po jednym  przykładzie, dla którego nie działają (można na podstawie p.1 lub wymyślić własny)\n",
    "\n",
    "B. Namalowac <a href=\"https://pl.wikipedia.org/wiki/Wst%C4%99ga_Newtona\"> wstegę Newtona </a> i objaśnić, w jaki sposób powstała i jaki jest jej związek z metodą Newtona do znajdowania pierwiastków. Sposób i język - dowolny."
   ]
  }
 ],
 "metadata": {
  "kernelspec": {
   "display_name": "Julia 1.0.1",
   "language": "julia",
   "name": "julia-1.0"
  },
  "language_info": {
   "file_extension": ".jl",
   "mimetype": "application/julia",
   "name": "julia",
   "version": "1.0.1"
  }
 },
 "nbformat": 4,
 "nbformat_minor": 2
}
